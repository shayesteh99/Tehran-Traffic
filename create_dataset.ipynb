{
  "cells": [
    {
      "cell_type": "markdown",
      "metadata": {
        "id": "view-in-github",
        "colab_type": "text"
      },
      "source": [
        "<a href=\"https://colab.research.google.com/github/shayesteh99/Tehran-Traffic/blob/main/create_dataset.ipynb\" target=\"_parent\"><img src=\"https://colab.research.google.com/assets/colab-badge.svg\" alt=\"Open In Colab\"/></a>"
      ]
    },
    {
      "cell_type": "code",
      "execution_count": 1,
      "metadata": {
        "id": "BfDhPIke2Ryq"
      },
      "outputs": [],
      "source": [
        "import numpy as np\n",
        "import pandas as pd\n",
        "import math\n",
        "import torch\n",
        "import torch.nn as nn\n",
        "from torch.utils.data import Dataset, DataLoader\n",
        "import matplotlib.pyplot as plt\n",
        "import torch.nn.functional as F\n",
        "import torchvision\n",
        "from tqdm.auto import tqdm, trange\n",
        "from sklearn.metrics import roc_auc_score\n",
        "from sklearn.metrics import mean_squared_error\n",
        "from sklearn.metrics import mean_absolute_error\n",
        "from sklearn.metrics import r2_score\n",
        "import xgboost as xgb\n",
        "from sklearn.neural_network import MLPRegressor\n",
        "from sklearn.cluster import KMeans\n",
        "from sklearn.decomposition import PCA\n",
        "\n",
        "from IPython import display\n",
        "import torch.backends.cudnn as cudnn\n",
        "import random\n",
        "\n",
        "def set_seed(seed):\n",
        "    cudnn.deterministic = True\n",
        "    torch.cuda.manual_seed(seed)\n",
        "    np.random.seed(seed)\n",
        "    torch.manual_seed(seed)\n",
        "    torch.cuda.manual_seed_all(seed)\n",
        "    random.seed(seed)"
      ]
    },
    {
      "cell_type": "code",
      "execution_count": 2,
      "metadata": {
        "colab": {
          "base_uri": "https://localhost:8080/"
        },
        "id": "hNgBjHvh2l82",
        "outputId": "6fd389dd-34d6-47f0-9c4a-885b827d1886"
      },
      "outputs": [
        {
          "output_type": "stream",
          "name": "stdout",
          "text": [
            "Mounted at /content/gdrive\n"
          ]
        }
      ],
      "source": [
        "from google.colab import drive\n",
        "drive.mount('/content/gdrive')"
      ]
    },
    {
      "cell_type": "code",
      "execution_count": 3,
      "metadata": {
        "colab": {
          "base_uri": "https://localhost:8080/"
        },
        "id": "yPBcITky2rCV",
        "outputId": "0c1aa742-83c7-489d-ad5a-eeffd89113db"
      },
      "outputs": [
        {
          "output_type": "stream",
          "name": "stdout",
          "text": [
            "/content/gdrive/.shortcut-targets-by-id/1kb7msLseHDgbNcoeHcAexfHINwu2zRER/Neshan2\n",
            "check_neighbors_average.ipynb\n",
            "\u001b[0m\u001b[01;34mClassification\u001b[0m/\n",
            "\u001b[01;34mDATA\u001b[0m/\n",
            "find_common_days.ipynb\n",
            "find_good_segments.ipynb\n",
            "find_mapped_good_neighors.ipynb\n",
            "find_neighbors.ipynb\n",
            "find_shorter_neighbors.ipynb\n",
            "get_good_segment-information.ipynb\n",
            "get_important_good_segment_information.ipynb\n",
            "get_mapped_good_segment_information.ipynb\n",
            "\u001b[01;34mGOOD_DATA\u001b[0m/\n",
            "\u001b[01;34mGOOD_IMPORTANT_DATA\u001b[0m/\n",
            "good_important_segment_information.csv\n",
            "\u001b[01;34mGOOD_MAPPED_DATA\u001b[0m/\n",
            "good_mapped_segment_information.csv\n",
            "good_segment_information.csv\n",
            "Important_segment.csv\n",
            "just_good_neighbors_1000.csv\n",
            "just_good_neighbors_1500.csv\n",
            "make_mapped_good_days.ipynb\n",
            "\u001b[01;34mMAPPED\u001b[0m/\n",
            "mapped_good_data.csv\n",
            "mapped_good_igraph.ipynb\n",
            "mapped_good_neighors.csv\n",
            "mapped_important_good_neighors.csv\n",
            "mapped_segment.csv\n",
            "\u001b[01;34mNEIGHBOR\u001b[0m/\n",
            "neighbors_1000.csv\n",
            "neighbors_750.csv\n",
            "new_data_df.csv\n",
            "\u001b[01;34mPP\u001b[0m/\n",
            "\u001b[01;34mRegression\u001b[0m/\n",
            "segment1.txt\n",
            "segment_locatiion.ipynb\n",
            "segments_corrected.csv\n",
            "\u001b[01;34mShayesteh\u001b[0m/\n",
            "To_verify.ipynb\n",
            "to_verify_mlpregressor.ipynb\n",
            "variance.ipynb\n",
            "vars.txt\n"
          ]
        }
      ],
      "source": [
        "%cd 'gdrive/MyDrive/Neshan2'\n",
        "%ls"
      ]
    },
    {
      "cell_type": "code",
      "execution_count": 4,
      "metadata": {
        "id": "isuPHXYr3BvN"
      },
      "outputs": [],
      "source": [
        "def convert_time_to_float(time):\n",
        "  angle = time / (24 * 4) * 2 * math.pi\n",
        "  return math.sin(angle), math.cos(angle)"
      ]
    },
    {
      "cell_type": "code",
      "execution_count": 5,
      "metadata": {
        "id": "RzR3yRny3C8H"
      },
      "outputs": [],
      "source": [
        "def label_quarter(row):\n",
        "  date_time = row['date_time']\n",
        "  time = date_time.split()[1]\n",
        "  parts = time.split(':')\n",
        "  hour = int(parts[0])\n",
        "  minute = int(parts[1])\n",
        "  return 4*hour + (minute // 15)"
      ]
    },
    {
      "cell_type": "code",
      "execution_count": 6,
      "metadata": {
        "id": "RFMEYgAP7_ir"
      },
      "outputs": [],
      "source": [
        "def get_low_variance_segments(df, threshold):\n",
        "  variances = df.groupby('Unnamed: 0')['speed'].var()\n",
        "  low_vars = variances[variances < threshold].index.to_numpy()\n",
        "  return low_vars"
      ]
    },
    {
      "cell_type": "code",
      "execution_count": 7,
      "metadata": {
        "id": "b1DrahUn8FYO"
      },
      "outputs": [],
      "source": [
        "def filter_neighbors(neighbors, low_vars):\n",
        "  new_neighgbors = neighbors.loc[~neighbors['segment_id'].isin(low_vars)]\n",
        "  ns = neighbors.columns[2:]\n",
        "  for n in ns:\n",
        "    new_neighgbors = new_neighgbors.loc[~new_neighgbors[n].isin(low_vars)]\n",
        "  return new_neighgbors"
      ]
    },
    {
      "cell_type": "code",
      "execution_count": 8,
      "metadata": {
        "id": "hnwH5E9i2vJu"
      },
      "outputs": [],
      "source": [
        "number_of_neighbors = 7\n",
        "k = 3"
      ]
    },
    {
      "cell_type": "code",
      "execution_count": 9,
      "metadata": {
        "colab": {
          "base_uri": "https://localhost:8080/"
        },
        "id": "CnCSM20B78U0",
        "outputId": "6374ad45-9ca6-4887-bb84-57a41df4dc11"
      },
      "outputs": [
        {
          "output_type": "stream",
          "name": "stdout",
          "text": [
            "      Unnamed: 0        seg_id  ...  out_graph_dist3  out_uc_dist3\n",
            "0              0  462727807000  ...                2   1027.332955\n",
            "1              1  482388476002  ...                3   5722.362624\n",
            "2              2  482388476003  ...                3   5494.900363\n",
            "3              3  472634491000  ...                3   4667.278650\n",
            "4              4  472634491001  ...                3   4388.200770\n",
            "...          ...           ...  ...              ...           ...\n",
            "6678        6678    4434034014  ...                3   5738.811114\n",
            "6679        6679    4434034015  ...                3   6068.638233\n",
            "6680        6680    4434034016  ...                3   6433.824524\n",
            "6681        6681    4434034018  ...                3   5186.788216\n",
            "6682        6682  687487066003  ...                3   3973.901483\n",
            "\n",
            "[6683 rows x 20 columns]\n"
          ]
        }
      ],
      "source": [
        "neighbors_df = pd.read_csv(\"Shayesteh/neighbors/graph_neighbors_3.csv\")\n",
        "print(neighbors_df)"
      ]
    },
    {
      "cell_type": "code",
      "execution_count": 10,
      "metadata": {
        "colab": {
          "base_uri": "https://localhost:8080/"
        },
        "id": "97WyjJoHtWEV",
        "outputId": "7dc73c8d-4971-412e-eadc-3e0f728e8340"
      },
      "outputs": [
        {
          "output_type": "stream",
          "name": "stdout",
          "text": [
            "['seg_id', 'time_sin', 'time_cos', 'case', 'nei_id1', 'speed1', 'graph_dist1', 'dist1', 'nei_id2', 'speed2', 'graph_dist2', 'dist2', 'nei_id3', 'speed3', 'graph_dist3', 'dist3', 'nei_id4', 'speed4', 'graph_dist4', 'dist4', 'nei_id5', 'speed5', 'graph_dist5', 'dist5', 'nei_id6', 'speed6', 'graph_dist6', 'dist6', 'label']\n"
          ]
        }
      ],
      "source": [
        "  columns = ['seg_id', 'time_sin', 'time_cos', 'case']\n",
        "  for i in range(k * 2):\n",
        "    columns.append('nei_id' + str(i+1))\n",
        "    columns.append('speed' + str(i+1))\n",
        "    columns.append('graph_dist' + str(i+1))\n",
        "    columns.append('dist' + str(i+1))\n",
        "  columns.append('label')\n",
        "  print(columns)"
      ]
    },
    {
      "cell_type": "code",
      "execution_count": 11,
      "metadata": {
        "colab": {
          "base_uri": "https://localhost:8080/"
        },
        "id": "M2vbmSAKGgQe",
        "outputId": "55099ed7-1d51-46ce-e143-5a71626e7ece"
      },
      "outputs": [
        {
          "output_type": "stream",
          "name": "stdout",
          "text": [
            "0\n",
            "1000\n",
            "2000\n",
            "3000\n",
            "4000\n",
            "5000\n",
            "6000\n",
            "len:  549529\n",
            "day 19 completed.\n"
          ]
        }
      ],
      "source": [
        "for day in range(19, 20):\n",
        "  dataset = []\n",
        "  day_df = pd.read_csv(\"GOOD_IMPORTANT_DATA/good_important_segment_day\" + str(day) + \".csv\")\n",
        "\n",
        "  # filter low variances\n",
        "  # low_var_segs = get_low_variance_segments(day_df, 100)\n",
        "  # filtered_day_df = day_df.loc[~day_df['Unnamed: 0'].isin(low_var_segs)]\n",
        "  # filtered_neighbors = filter_neighbors(neighbors_df, low_var_segs)\n",
        "\n",
        "  day_df['quarter'] = day_df.apply (lambda row: label_quarter(row), axis=1)\n",
        "  day_df = day_df.drop(columns = ['date_time'])\n",
        "\n",
        "  records_dict = {}\n",
        "  segments = day_df['Unnamed: 0'].unique()\n",
        "  for s in segments:\n",
        "    records_dict[s] = day_df[day_df['Unnamed: 0'] == s]\n",
        "  \n",
        "  \n",
        "  for i in range(len(neighbors_df)):\n",
        "    if i % 1000 == 0:\n",
        "      print(i)\n",
        "    record = neighbors_df.iloc[i].to_numpy()\n",
        "    segment_id = record[1]\n",
        "    if segment_id not in records_dict:\n",
        "      continue\n",
        "    segment_records = records_dict[segment_id]\n",
        "    segment_times = segment_records['quarter'].to_numpy()\n",
        "    intersect_times = segment_times\n",
        "    if len(segment_times) < 1:\n",
        "      continue\n",
        "    neighbors = []\n",
        "    for j in range(2 * k):\n",
        "      id = record[k * j + 2]\n",
        "      if id not in records_dict:\n",
        "        break\n",
        "      \n",
        "      id_records = records_dict[id][records_dict[id]['quarter'].isin(intersect_times)]\n",
        "      neighbors.append(id_records)\n",
        "      intersect_times = id_records['quarter'].to_numpy()\n",
        "      if len(intersect_times) == 0:\n",
        "        break\n",
        "\n",
        "    if len(intersect_times) > 0 and len(neighbors) == 2 * k:\n",
        "      for time in intersect_times:\n",
        "        next_time = time + 1\n",
        "        if next_time not in segment_times:\n",
        "          continue\n",
        "        time_sin, time_cos = convert_time_to_float(time)\n",
        "        sample = [segment_id, time_sin, time_cos]\n",
        "        sample.append(segment_records[segment_records['quarter'] == time]['speed'].to_numpy()[0])\n",
        "        for n in range(len(neighbors)):\n",
        "          sample.append(record[k * n + 2])\n",
        "          sample.append(neighbors[n][neighbors[n]['quarter'] == time]['speed'].to_numpy()[0])\n",
        "          sample.append(record[k * n + 3])\n",
        "          sample.append(record[k * n + 4])\n",
        "        sample.append(segment_records[segment_records['quarter'] == next_time]['speed'].to_numpy()[0])\n",
        "        dataset.append(sample)\n",
        "  \n",
        "  dataset_df = pd.DataFrame(dataset, columns = columns)\n",
        "  dataset_df.to_csv(\"Shayesteh/dataset/dataset_graph_3/dataset_\" + str(day) + \".csv\")\n",
        "  print(\"len: \", len(dataset))\n",
        "  print(\"day \" + str(day) + \" completed.\")"
      ]
    }
  ],
  "metadata": {
    "colab": {
      "name": "create_dataset.ipynb",
      "provenance": [],
      "authorship_tag": "ABX9TyM9HZkfSQuFyacpYKVM5RKO",
      "include_colab_link": true
    },
    "kernelspec": {
      "display_name": "Python 3",
      "name": "python3"
    },
    "language_info": {
      "name": "python"
    }
  },
  "nbformat": 4,
  "nbformat_minor": 0
}