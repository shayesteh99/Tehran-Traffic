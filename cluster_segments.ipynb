{
  "nbformat": 4,
  "nbformat_minor": 0,
  "metadata": {
    "colab": {
      "name": "cluster_segments.ipynb",
      "provenance": [],
      "authorship_tag": "ABX9TyNVOmlfE+ZfSgBvWUmo832F",
      "include_colab_link": true
    },
    "kernelspec": {
      "name": "python3",
      "display_name": "Python 3"
    },
    "language_info": {
      "name": "python"
    }
  },
  "cells": [
    {
      "cell_type": "markdown",
      "metadata": {
        "id": "view-in-github",
        "colab_type": "text"
      },
      "source": [
        "<a href=\"https://colab.research.google.com/github/shayesteh99/Tehran-Traffic/blob/main/cluster_segments.ipynb\" target=\"_parent\"><img src=\"https://colab.research.google.com/assets/colab-badge.svg\" alt=\"Open In Colab\"/></a>"
      ]
    },
    {
      "cell_type": "code",
      "execution_count": null,
      "metadata": {
        "id": "dxhl0m_TM8J6"
      },
      "outputs": [],
      "source": [
        "import numpy as np\n",
        "import pandas as pd\n",
        "import math\n",
        "import torch\n",
        "import torch.nn as nn\n",
        "from torch.utils.data import Dataset, DataLoader\n",
        "import matplotlib.pyplot as plt\n",
        "import torch.nn.functional as F\n",
        "import torchvision\n",
        "from tqdm.auto import tqdm, trange\n",
        "from sklearn.metrics import roc_auc_score\n",
        "from sklearn.metrics import mean_squared_error\n",
        "from sklearn.metrics import mean_absolute_error\n",
        "from sklearn.metrics import r2_score\n",
        "import xgboost as xgb\n",
        "from sklearn.neural_network import MLPRegressor\n",
        "from sklearn.cluster import KMeans\n",
        "from sklearn.decomposition import PCA\n",
        "\n",
        "from IPython import display\n",
        "import torch.backends.cudnn as cudnn\n",
        "import random\n",
        "\n",
        "def set_seed(seed):\n",
        "    cudnn.deterministic = True\n",
        "    torch.cuda.manual_seed(seed)\n",
        "    np.random.seed(seed)\n",
        "    torch.manual_seed(seed)\n",
        "    torch.cuda.manual_seed_all(seed)\n",
        "    random.seed(seed)"
      ]
    },
    {
      "cell_type": "code",
      "source": [
        "from google.colab import drive\n",
        "drive.mount('/content/gdrive')"
      ],
      "metadata": {
        "colab": {
          "base_uri": "https://localhost:8080/"
        },
        "id": "LTWT35GeNNWV",
        "outputId": "2a99c05b-3720-4509-d26b-b27e49caeeb3"
      },
      "execution_count": null,
      "outputs": [
        {
          "output_type": "stream",
          "name": "stdout",
          "text": [
            "Mounted at /content/gdrive\n"
          ]
        }
      ]
    },
    {
      "cell_type": "code",
      "source": [
        "%cd 'gdrive/MyDrive/Neshan2'\n",
        "%ls"
      ],
      "metadata": {
        "colab": {
          "base_uri": "https://localhost:8080/"
        },
        "id": "ahzqJDSWNQg0",
        "outputId": "1bb828be-7277-41bf-e52d-5c7725d6d173"
      },
      "execution_count": null,
      "outputs": [
        {
          "output_type": "stream",
          "name": "stdout",
          "text": [
            "/content/gdrive/.shortcut-targets-by-id/1kb7msLseHDgbNcoeHcAexfHINwu2zRER/Neshan2\n",
            "check_neighbors_average.ipynb\n",
            "\u001b[0m\u001b[01;34mClassification\u001b[0m/\n",
            "\u001b[01;34mDATA\u001b[0m/\n",
            "find_common_days.ipynb\n",
            "find_good_segments.ipynb\n",
            "find_mapped_good_neighors.ipynb\n",
            "find_neighbors.ipynb\n",
            "find_shorter_neighbors.ipynb\n",
            "get_important_good_segment_information.ipynb\n",
            "get_mapped_good_segment_information.ipynb\n",
            "\u001b[01;34mGOOD_DATA\u001b[0m/\n",
            "\u001b[01;34mGOOD_IMPORTANT_DATA\u001b[0m/\n",
            "good_important_segment_information.csv\n",
            "\u001b[01;34mGOOD_MAPPED_DATA\u001b[0m/\n",
            "good_mapped_segment_information.csv\n",
            "good_segment_information.csv\n",
            "Important_segment.csv\n",
            "just_good_neighbors_1000.csv\n",
            "just_good_neighbors_1500.csv\n",
            "make_mapped_good_days.ipynb\n",
            "\u001b[01;34mMAPPED\u001b[0m/\n",
            "mapped_good_data.csv\n",
            "mapped_good_igraph.ipynb\n",
            "mapped_good_neighors.csv\n",
            "mapped_important_good_neighors.csv\n",
            "mapped_segment.csv\n",
            "\u001b[01;34mNEIGHBOR\u001b[0m/\n",
            "neighbors_1000.csv\n",
            "neighbors_750.csv\n",
            "new_data_df.csv\n",
            "\u001b[01;34mPP\u001b[0m/\n",
            "\u001b[01;34mRegression\u001b[0m/\n",
            "segment1.txt\n",
            "segment_locatiion.ipynb\n",
            "segments_corrected.csv\n",
            "\u001b[01;34mShayesteh\u001b[0m/\n",
            "To_verify.ipynb\n",
            "to_verify_mlpregressor.ipynb\n",
            "variance.ipynb\n",
            "vars.txt\n"
          ]
        }
      ]
    },
    {
      "cell_type": "code",
      "source": [
        "def label_quarter(row):\n",
        "  date_time = row['date_time']\n",
        "  time = date_time.split()[1]\n",
        "  parts = time.split(':')\n",
        "  hour = int(parts[0])\n",
        "  minute = int(parts[1])\n",
        "  return 4*hour + (minute // 15)"
      ],
      "metadata": {
        "id": "l_F8smKxPJwf"
      },
      "execution_count": null,
      "outputs": []
    },
    {
      "cell_type": "code",
      "source": [
        "def find_index(intervals, quarter):\n",
        "  hour = quarter // 4\n",
        "  for i in range(len(intervals)):\n",
        "    if hour < intervals[i]:\n",
        "      index = max(0, i - 1)\n",
        "      break\n",
        "  return index"
      ],
      "metadata": {
        "id": "vm9WFs8wNnI7"
      },
      "execution_count": null,
      "outputs": []
    },
    {
      "cell_type": "code",
      "source": [
        "segment_data = {}\n",
        "intervals = [0, 5, 10, 15, 20, 24]"
      ],
      "metadata": {
        "id": "nTWKtURUNZu8"
      },
      "execution_count": null,
      "outputs": []
    },
    {
      "cell_type": "code",
      "source": [
        "for d in range(1, 20):\n",
        "  day = str(d)\n",
        "  day_df = pd.read_csv(\"GOOD_IMPORTANT_DATA/good_important_segment_day\" + day + \".csv\")\n",
        "  day_df['quarter'] = day_df.apply (lambda row: label_quarter(row), axis=1)\n",
        "  day_df = day_df.drop(columns = ['date_time'])\n",
        "\n",
        "  for i in range(len(day_df)):\n",
        "    record = day_df.iloc[i]\n",
        "    segment_id = record['Unnamed: 0']\n",
        "    quarter = record['quarter']\n",
        "    if segment_id not in segment_data:\n",
        "      segment_data[segment_id] = [[] for i in range(len(intervals) - 1)]\n",
        "    index = find_index(intervals, quarter)\n",
        "    segment_data[segment_id][index].append(record['speed'])"
      ],
      "metadata": {
        "id": "j1RJO3OhNh1f"
      },
      "execution_count": null,
      "outputs": []
    },
    {
      "cell_type": "code",
      "source": [
        "segment_info = []\n",
        "for s in segment_data:\n",
        "  seg = [s]\n",
        "  for i in range(len(intervals) - 1):\n",
        "    if len(segment_data[s][i]) == 0:\n",
        "      seg.extend([-1, -1])\n",
        "      continue\n",
        "    seg.append(np.mean(segment_data[s][i]))\n",
        "    seg.append(np.var(segment_data[s][i]))\n",
        "  segment_info.append(seg)\n",
        "segment_info = np.array(segment_info)"
      ],
      "metadata": {
        "id": "crUMYc4ai86U"
      },
      "execution_count": null,
      "outputs": []
    },
    {
      "cell_type": "code",
      "source": [
        "columns = ['segment_id']\n",
        "for i in range(len(intervals) - 1):\n",
        "  columns.extend(['mean' + str(i+1), 'var' + str(i+1)])\n",
        "info_df = pd.DataFrame(segment_info, columns = columns)\n",
        "info_df.to_csv(\"Shayesteh/dataset/segment_info_\" + str(len(intervals) - 1) + \".csv\")"
      ],
      "metadata": {
        "id": "CdiUppIfjKVp"
      },
      "execution_count": null,
      "outputs": []
    },
    {
      "cell_type": "code",
      "source": [
        "cluster_input = segment_info[:,1:]\n",
        "seg_ids = segment_info[:,0]\n",
        "kmeans = KMeans(n_clusters=2, random_state=0).fit(cluster_input)\n",
        "labels = kmeans.labels_"
      ],
      "metadata": {
        "id": "FcFyOKYEjebg"
      },
      "execution_count": null,
      "outputs": []
    },
    {
      "cell_type": "code",
      "source": [
        "unique, counts = np.unique(labels, return_counts=True)\n",
        "print(dict(zip(unique, counts)))"
      ],
      "metadata": {
        "colab": {
          "base_uri": "https://localhost:8080/"
        },
        "id": "hc-ob9fMjwg2",
        "outputId": "34e86360-a557-4d41-9a46-5e94336b257d"
      },
      "execution_count": null,
      "outputs": [
        {
          "output_type": "stream",
          "name": "stdout",
          "text": [
            "{0: 18329, 1: 4769}\n"
          ]
        }
      ]
    },
    {
      "cell_type": "code",
      "source": [
        "indices0 = np.argwhere(labels == 0)\n",
        "cluster_input0 = cluster_input[indices0]\n",
        "cluster_input0 = cluster_input0[:, 0, :]\n",
        "seg_ids0 = seg_ids[indices0]\n",
        "seg_ids0 = seg_ids0[:,0]\n",
        "kmeans = KMeans(n_clusters=2, random_state=0).fit(cluster_input0)\n",
        "labels0 = kmeans.labels_"
      ],
      "metadata": {
        "id": "prQl-dRVkSMm"
      },
      "execution_count": null,
      "outputs": []
    },
    {
      "cell_type": "code",
      "source": [
        "unique, counts = np.unique(labels0, return_counts=True)\n",
        "print(dict(zip(unique, counts)))"
      ],
      "metadata": {
        "colab": {
          "base_uri": "https://localhost:8080/"
        },
        "id": "3piuEkAYl6be",
        "outputId": "cc9877f2-7ff5-4555-b498-90560dbb4be0"
      },
      "execution_count": null,
      "outputs": [
        {
          "output_type": "stream",
          "name": "stdout",
          "text": [
            "{0: 10061, 1: 8268}\n"
          ]
        }
      ]
    },
    {
      "cell_type": "code",
      "source": [
        "total_labels = labels0\n",
        "total_input = cluster_input0\n",
        "total_seg_ids = seg_ids0\n",
        "\n",
        "indices2 = np.argwhere(labels == 1)\n",
        "cluster_input2 = cluster_input[indices2]\n",
        "cluster_input2 = cluster_input2[:, 0, :]\n",
        "seg_ids2 = seg_ids[indices2]\n",
        "seg_ids2 = seg_ids2[:,0]\n",
        "\n",
        "total_seg_ids = np.append(total_seg_ids, seg_ids2, axis = 0)\n",
        "total_input = np.append(total_input, cluster_input2, axis = 0)\n",
        "total_labels = np.append(total_labels, np.repeat(2, len(indices2)), axis = 0)\n",
        "print(total_seg_ids.shape, total_input.shape, total_labels.shape)"
      ],
      "metadata": {
        "colab": {
          "base_uri": "https://localhost:8080/"
        },
        "id": "q6fcDR4bmMdD",
        "outputId": "610b1768-b101-4538-d55e-065d2ad87ded"
      },
      "execution_count": null,
      "outputs": [
        {
          "output_type": "stream",
          "name": "stdout",
          "text": [
            "(23098,) (23098, 10) (23098,)\n"
          ]
        }
      ]
    },
    {
      "cell_type": "code",
      "source": [
        "unique, counts = np.unique(total_labels, return_counts=True)\n",
        "print(dict(zip(unique, counts)))"
      ],
      "metadata": {
        "colab": {
          "base_uri": "https://localhost:8080/"
        },
        "id": "sRejJH5prvwo",
        "outputId": "86573cfb-456c-496a-ec70-987b683080e0"
      },
      "execution_count": null,
      "outputs": [
        {
          "output_type": "stream",
          "name": "stdout",
          "text": [
            "{0: 10061, 1: 8268, 2: 4769}\n"
          ]
        }
      ]
    },
    {
      "cell_type": "code",
      "source": [
        "pca = PCA(n_components=2)\n",
        "cluster_reduced = pca.fit_transform(total_input)\n",
        "\n",
        "plt.figure(figsize=(10, 6), dpi=80)\n",
        "plt.scatter(cluster_reduced[:,0], cluster_reduced[:,1], c = total_labels)\n",
        "plt.show"
      ],
      "metadata": {
        "colab": {
          "base_uri": "https://localhost:8080/",
          "height": 430
        },
        "id": "p3wlDf01jmLP",
        "outputId": "28ed38b5-cb73-4859-b665-a050d2a1d304"
      },
      "execution_count": null,
      "outputs": [
        {
          "output_type": "execute_result",
          "data": {
            "text/plain": [
              "<function matplotlib.pyplot.show>"
            ]
          },
          "metadata": {},
          "execution_count": 47
        },
        {
          "output_type": "display_data",
          "data": {
            "image/png": "[encoded data removed]",
            "text/plain": [
              "<Figure size 800x480 with 1 Axes>"
            ]
          },
          "metadata": {
            "needs_background": "light"
          }
        }
      ]
    },
    {
      "cell_type": "code",
      "source": [
        "segment_classes = np.c_[total_seg_ids, total_labels]\n",
        "columns = ['seg_id', 'class']\n",
        "class_df = pd.DataFrame(segment_classes, columns = columns)\n",
        "class_df.to_csv(\"Shayesteh/dataset/segment_classes_3.csv\")"
      ],
      "metadata": {
        "id": "bhcCebDcr3pz"
      },
      "execution_count": null,
      "outputs": []
    }
  ]
}